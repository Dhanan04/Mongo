{
 "cells": [
  {
   "cell_type": "markdown",
   "id": "87414eb6",
   "metadata": {},
   "source": [
    "#Ans1.) \n",
    "\n",
    "MongoDB: MongoDB is a popular open-source NoSQL database management system that uses a document-oriented data model. It stores data in flexible, JSON-like documents, making it easier to store and represent complex hierarchical data structures.\n",
    "\n",
    "Non-relational Databases: Non-relational databases, also known as NoSQL databases, differ from traditional SQL databases by not adhering to the relational data model. They offer flexibility in data schema design, scalability, and performance. NoSQL databases are suitable for handling unstructured or semi-structured data, real-time data processing, and scenarios where horizontal scalability is essential.\n",
    "\n",
    "Scenarios to Use MongoDB over SQL Databases:\n",
    "\n",
    "When the schema of the data is evolving or not well-defined.\n",
    "For applications requiring high availability and scalability.\n",
    "When dealing with large volumes of data or real-time data processing.\n",
    "For storing hierarchical or nested data structures.\n",
    "In scenarios where a flexible, schema-less approach is preferred."
   ]
  },
  {
   "cell_type": "code",
   "execution_count": null,
   "id": "848cac62",
   "metadata": {},
   "outputs": [],
   "source": []
  },
  {
   "cell_type": "markdown",
   "id": "6376a379",
   "metadata": {},
   "source": [
    "#Ans2.) \n",
    "\n",
    "Document-Oriented: MongoDB stores data in flexible, JSON-like documents called BSON (Binary JSON). Documents can vary in structure and contain nested fields, arrays, and sub-documents.\n",
    "\n",
    "High Performance: MongoDB provides high performance and scalability by using internal memory management and horizontal scalability through sharding.\n",
    "\n",
    "Flexible Schema Design: MongoDB's schema design is dynamic and allows for easy modification without downtime. Fields can be added or removed from documents without affecting other documents in the collection.\n",
    "\n",
    "Indexing: MongoDB supports various types of indexes, including single-field, compound, geospatial, and text indexes, to improve query performance.\n",
    "\n",
    "Replication: MongoDB supports replica sets for high availability and fault tolerance. Replica sets consist of multiple copies of data distributed across multiple servers."
   ]
  },
  {
   "cell_type": "code",
   "execution_count": null,
   "id": "864e4e3a",
   "metadata": {},
   "outputs": [],
   "source": []
  },
  {
   "cell_type": "code",
   "execution_count": 4,
   "id": "7d7be8f4",
   "metadata": {},
   "outputs": [
    {
     "name": "stdout",
     "output_type": "stream",
     "text": [
      "Requirement already satisfied: pymongo in c:\\users\\dell\\anaconda3\\lib\\site-packages (4.6.3)\n",
      "Requirement already satisfied: dnspython<3.0.0,>=1.16.0 in c:\\users\\dell\\anaconda3\\lib\\site-packages (from pymongo) (2.6.1)\n"
     ]
    },
    {
     "name": "stderr",
     "output_type": "stream",
     "text": [
      "DEPRECATION: Loading egg at c:\\users\\dell\\anaconda3\\lib\\site-packages\\diamondpriceprediction-0.0.1-py3.11.egg is deprecated. pip 23.3 will enforce this behaviour change. A possible replacement is to use pip for package installation..\n",
      "DEPRECATION: Loading egg at c:\\users\\dell\\anaconda3\\lib\\site-packages\\fonttools-4.42.1-py3.11.egg is deprecated. pip 23.3 will enforce this behaviour change. A possible replacement is to use pip for package installation..\n"
     ]
    }
   ],
   "source": [
    "#Ans3.)\n",
    "\n",
    "!pip install pymongo\n",
    "import pymongo\n",
    "\n",
    "# Connect to MongoDB\n",
    "client = pymongo.MongoClient(\"mongodb://localhost:27017/\")\n",
    "\n",
    "# Create a database\n",
    "mydb = client[\"mydatabase\"]\n",
    "\n",
    "# Create a collection\n",
    "mycollection = mydb[\"customers\"]\n"
   ]
  },
  {
   "cell_type": "code",
   "execution_count": null,
   "id": "3c9e2c29",
   "metadata": {},
   "outputs": [],
   "source": []
  },
  {
   "cell_type": "code",
   "execution_count": null,
   "id": "eb6483ad",
   "metadata": {},
   "outputs": [],
   "source": [
    "#Ans4.) \n",
    "\n",
    "# Insert one record\n",
    "record = {\"name\": \"John\", \"age\": 30, \"city\": \"New York\"}\n",
    "mycollection.insert_one(record)\n",
    "\n",
    "# Insert many records\n",
    "records = [\n",
    "    {\"name\": \"Alice\", \"age\": 25, \"city\": \"Los Angeles\"},\n",
    "    {\"name\": \"Bob\", \"age\": 35, \"city\": \"Chicago\"}\n",
    "]\n",
    "mycollection.insert_many(records)\n",
    "\n",
    "# Print inserted record using find_one()\n",
    "print(mycollection.find_one())\n",
    "\n",
    "# Print all inserted records using find()\n",
    "for record in mycollection.find():\n",
    "    print(record)\n"
   ]
  },
  {
   "cell_type": "code",
   "execution_count": null,
   "id": "16d35658",
   "metadata": {},
   "outputs": [],
   "source": []
  },
  {
   "cell_type": "markdown",
   "id": "cff2a516",
   "metadata": {},
   "source": [
    "#Ans5.)\n",
    "\n",
    "\"\"\"find(): The find() method is used to query documents in a collection. It returns a cursor object that can iterate over the matched documents\"\"\"\n"
   ]
  },
  {
   "cell_type": "code",
   "execution_count": null,
   "id": "4f58d374",
   "metadata": {},
   "outputs": [],
   "source": [
    "\n",
    "# Query documents where age is greater than 25\n",
    "query = {\"age\": {\"$gt\": 25}}\n",
    "results = mycollection.find(query)\n",
    "\n",
    "# Print matched documents\n",
    "for record in results:\n",
    "    print(record)"
   ]
  },
  {
   "cell_type": "code",
   "execution_count": null,
   "id": "652690bd",
   "metadata": {},
   "outputs": [],
   "source": []
  },
  {
   "cell_type": "markdown",
   "id": "9efa5d68",
   "metadata": {},
   "source": [
    "#Ans6.)\n",
    "\n",
    "sort(): The sort() method is used to sort the result set of a query based on one or more fields in ascending or descending order."
   ]
  },
  {
   "cell_type": "code",
   "execution_count": null,
   "id": "7b0c7530",
   "metadata": {},
   "outputs": [],
   "source": [
    "# Sort documents by age in ascending order\n",
    "results = mycollection.find().sort(\"age\")\n",
    "\n",
    "# Print sorted documents\n",
    "for record in results:\n",
    "    print(record)\n"
   ]
  },
  {
   "cell_type": "code",
   "execution_count": null,
   "id": "cd8560a1",
   "metadata": {},
   "outputs": [],
   "source": []
  },
  {
   "cell_type": "markdown",
   "id": "c998e27e",
   "metadata": {},
   "source": [
    "#Ans7.)\n",
    "\n",
    "\n",
    "delete_one(): The delete_one() method is used to delete a single document that matches the specified filter criteria from a collection.\n",
    "\n",
    "delete_many(): The delete_many() method is used to delete multiple documents that match the specified filter criteria from a collection.\n",
    "\n",
    "drop(): The drop() method is used to drop an entire collection from the database, effectively deleting all documents in the collection.\n",
    "\n",
    "These methods are used to remove data from MongoDB collections based on specific criteria, either single documents or multiple documents, or to completely remove a collection.\n",
    "\n",
    "\n",
    "\n",
    "\n",
    "\n",
    "\n"
   ]
  },
  {
   "cell_type": "code",
   "execution_count": null,
   "id": "9bafd5c1",
   "metadata": {},
   "outputs": [],
   "source": []
  }
 ],
 "metadata": {
  "kernelspec": {
   "display_name": "Python 3 (ipykernel)",
   "language": "python",
   "name": "python3"
  },
  "language_info": {
   "codemirror_mode": {
    "name": "ipython",
    "version": 3
   },
   "file_extension": ".py",
   "mimetype": "text/x-python",
   "name": "python",
   "nbconvert_exporter": "python",
   "pygments_lexer": "ipython3",
   "version": "3.11.4"
  }
 },
 "nbformat": 4,
 "nbformat_minor": 5
}
